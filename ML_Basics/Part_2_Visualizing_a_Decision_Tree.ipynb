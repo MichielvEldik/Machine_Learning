{
 "cells": [
  {
   "cell_type": "markdown",
   "metadata": {},
   "source": [
    "### Visualizing a Decision Tree"
   ]
  },
  {
   "cell_type": "markdown",
   "metadata": {},
   "source": [
    "There are many types of classifiers like Neural Networks and Support Vector machines. Why did we start with Decision trees? Because they are easy to comprehend!"
   ]
  },
  {
   "cell_type": "markdown",
   "metadata": {},
   "source": [
    "Today we will work on a classic ML problem called \"Iris\". This is all about recognizing flowers based on features such as length and width of the petal"
   ]
  },
  {
   "cell_type": "markdown",
   "metadata": {},
   "source": [
    "The dataset includes 3 species of flowers (N=150):\n",
    "- Setosa\n",
    "- Versicolor\n",
    "- Virginica"
   ]
  },
  {
   "cell_type": "markdown",
   "metadata": {},
   "source": [
    "There are 4 features to describe them:\n",
    "- Sepal length\n",
    "- Sepal width\n",
    "- Petal length\n",
    "- Petal width\n"
   ]
  },
  {
   "cell_type": "markdown",
   "metadata": {},
   "source": [
    "### Import Iris datasets"
   ]
  },
  {
   "cell_type": "code",
   "execution_count": 11,
   "metadata": {},
   "outputs": [],
   "source": [
    "from sklearn.datasets import load_iris\n",
    "import numpy as np\n",
    "iris = load_iris()"
   ]
  },
  {
   "cell_type": "markdown",
   "metadata": {},
   "source": [
    "View meta-data"
   ]
  },
  {
   "cell_type": "code",
   "execution_count": 3,
   "metadata": {},
   "outputs": [
    {
     "name": "stdout",
     "output_type": "stream",
     "text": [
      "['sepal length (cm)', 'sepal width (cm)', 'petal length (cm)', 'petal width (cm)']\n",
      "['setosa' 'versicolor' 'virginica']\n"
     ]
    }
   ],
   "source": [
    "print(iris.feature_names)\n",
    "print(iris.target_names)"
   ]
  },
  {
   "cell_type": "markdown",
   "metadata": {},
   "source": [
    "Let's look at the first instance in our dataset. This is a Setosa because 0 corresponds with the first target_name, being a Setosa in this case"
   ]
  },
  {
   "cell_type": "code",
   "execution_count": 6,
   "metadata": {},
   "outputs": [
    {
     "name": "stdout",
     "output_type": "stream",
     "text": [
      "[5.1 3.5 1.4 0.2]\n",
      "0\n"
     ]
    }
   ],
   "source": [
    "print(iris.data[0])\n",
    "print(iris.target[0])"
   ]
  },
  {
   "cell_type": "code",
   "execution_count": 8,
   "metadata": {},
   "outputs": [
    {
     "name": "stdout",
     "output_type": "stream",
     "text": [
      "Example 0: label 0, feature_names [5.1 3.5 1.4 0.2]\n",
      "Example 1: label 0, feature_names [4.9 3.  1.4 0.2]\n",
      "Example 2: label 0, feature_names [4.7 3.2 1.3 0.2]\n",
      "Example 3: label 0, feature_names [4.6 3.1 1.5 0.2]\n",
      "Example 4: label 0, feature_names [5.  3.6 1.4 0.2]\n",
      "Example 5: label 0, feature_names [5.4 3.9 1.7 0.4]\n",
      "Example 6: label 0, feature_names [4.6 3.4 1.4 0.3]\n",
      "Example 7: label 0, feature_names [5.  3.4 1.5 0.2]\n",
      "Example 8: label 0, feature_names [4.4 2.9 1.4 0.2]\n",
      "Example 9: label 0, feature_names [4.9 3.1 1.5 0.1]\n",
      "Example 10: label 0, feature_names [5.4 3.7 1.5 0.2]\n",
      "Example 11: label 0, feature_names [4.8 3.4 1.6 0.2]\n",
      "Example 12: label 0, feature_names [4.8 3.  1.4 0.1]\n",
      "Example 13: label 0, feature_names [4.3 3.  1.1 0.1]\n",
      "Example 14: label 0, feature_names [5.8 4.  1.2 0.2]\n",
      "Example 15: label 0, feature_names [5.7 4.4 1.5 0.4]\n",
      "Example 16: label 0, feature_names [5.4 3.9 1.3 0.4]\n",
      "Example 17: label 0, feature_names [5.1 3.5 1.4 0.3]\n",
      "Example 18: label 0, feature_names [5.7 3.8 1.7 0.3]\n",
      "Example 19: label 0, feature_names [5.1 3.8 1.5 0.3]\n",
      "Example 20: label 0, feature_names [5.4 3.4 1.7 0.2]\n",
      "Example 21: label 0, feature_names [5.1 3.7 1.5 0.4]\n",
      "Example 22: label 0, feature_names [4.6 3.6 1.  0.2]\n",
      "Example 23: label 0, feature_names [5.1 3.3 1.7 0.5]\n",
      "Example 24: label 0, feature_names [4.8 3.4 1.9 0.2]\n",
      "Example 25: label 0, feature_names [5.  3.  1.6 0.2]\n",
      "Example 26: label 0, feature_names [5.  3.4 1.6 0.4]\n",
      "Example 27: label 0, feature_names [5.2 3.5 1.5 0.2]\n",
      "Example 28: label 0, feature_names [5.2 3.4 1.4 0.2]\n",
      "Example 29: label 0, feature_names [4.7 3.2 1.6 0.2]\n",
      "Example 30: label 0, feature_names [4.8 3.1 1.6 0.2]\n",
      "Example 31: label 0, feature_names [5.4 3.4 1.5 0.4]\n",
      "Example 32: label 0, feature_names [5.2 4.1 1.5 0.1]\n",
      "Example 33: label 0, feature_names [5.5 4.2 1.4 0.2]\n",
      "Example 34: label 0, feature_names [4.9 3.1 1.5 0.2]\n",
      "Example 35: label 0, feature_names [5.  3.2 1.2 0.2]\n",
      "Example 36: label 0, feature_names [5.5 3.5 1.3 0.2]\n",
      "Example 37: label 0, feature_names [4.9 3.6 1.4 0.1]\n",
      "Example 38: label 0, feature_names [4.4 3.  1.3 0.2]\n",
      "Example 39: label 0, feature_names [5.1 3.4 1.5 0.2]\n",
      "Example 40: label 0, feature_names [5.  3.5 1.3 0.3]\n",
      "Example 41: label 0, feature_names [4.5 2.3 1.3 0.3]\n",
      "Example 42: label 0, feature_names [4.4 3.2 1.3 0.2]\n",
      "Example 43: label 0, feature_names [5.  3.5 1.6 0.6]\n",
      "Example 44: label 0, feature_names [5.1 3.8 1.9 0.4]\n",
      "Example 45: label 0, feature_names [4.8 3.  1.4 0.3]\n",
      "Example 46: label 0, feature_names [5.1 3.8 1.6 0.2]\n",
      "Example 47: label 0, feature_names [4.6 3.2 1.4 0.2]\n",
      "Example 48: label 0, feature_names [5.3 3.7 1.5 0.2]\n",
      "Example 49: label 0, feature_names [5.  3.3 1.4 0.2]\n",
      "Example 50: label 1, feature_names [7.  3.2 4.7 1.4]\n",
      "Example 51: label 1, feature_names [6.4 3.2 4.5 1.5]\n",
      "Example 52: label 1, feature_names [6.9 3.1 4.9 1.5]\n",
      "Example 53: label 1, feature_names [5.5 2.3 4.  1.3]\n",
      "Example 54: label 1, feature_names [6.5 2.8 4.6 1.5]\n",
      "Example 55: label 1, feature_names [5.7 2.8 4.5 1.3]\n",
      "Example 56: label 1, feature_names [6.3 3.3 4.7 1.6]\n",
      "Example 57: label 1, feature_names [4.9 2.4 3.3 1. ]\n",
      "Example 58: label 1, feature_names [6.6 2.9 4.6 1.3]\n",
      "Example 59: label 1, feature_names [5.2 2.7 3.9 1.4]\n",
      "Example 60: label 1, feature_names [5.  2.  3.5 1. ]\n",
      "Example 61: label 1, feature_names [5.9 3.  4.2 1.5]\n",
      "Example 62: label 1, feature_names [6.  2.2 4.  1. ]\n",
      "Example 63: label 1, feature_names [6.1 2.9 4.7 1.4]\n",
      "Example 64: label 1, feature_names [5.6 2.9 3.6 1.3]\n",
      "Example 65: label 1, feature_names [6.7 3.1 4.4 1.4]\n",
      "Example 66: label 1, feature_names [5.6 3.  4.5 1.5]\n",
      "Example 67: label 1, feature_names [5.8 2.7 4.1 1. ]\n",
      "Example 68: label 1, feature_names [6.2 2.2 4.5 1.5]\n",
      "Example 69: label 1, feature_names [5.6 2.5 3.9 1.1]\n",
      "Example 70: label 1, feature_names [5.9 3.2 4.8 1.8]\n",
      "Example 71: label 1, feature_names [6.1 2.8 4.  1.3]\n",
      "Example 72: label 1, feature_names [6.3 2.5 4.9 1.5]\n",
      "Example 73: label 1, feature_names [6.1 2.8 4.7 1.2]\n",
      "Example 74: label 1, feature_names [6.4 2.9 4.3 1.3]\n",
      "Example 75: label 1, feature_names [6.6 3.  4.4 1.4]\n",
      "Example 76: label 1, feature_names [6.8 2.8 4.8 1.4]\n",
      "Example 77: label 1, feature_names [6.7 3.  5.  1.7]\n",
      "Example 78: label 1, feature_names [6.  2.9 4.5 1.5]\n",
      "Example 79: label 1, feature_names [5.7 2.6 3.5 1. ]\n",
      "Example 80: label 1, feature_names [5.5 2.4 3.8 1.1]\n",
      "Example 81: label 1, feature_names [5.5 2.4 3.7 1. ]\n",
      "Example 82: label 1, feature_names [5.8 2.7 3.9 1.2]\n",
      "Example 83: label 1, feature_names [6.  2.7 5.1 1.6]\n",
      "Example 84: label 1, feature_names [5.4 3.  4.5 1.5]\n",
      "Example 85: label 1, feature_names [6.  3.4 4.5 1.6]\n",
      "Example 86: label 1, feature_names [6.7 3.1 4.7 1.5]\n",
      "Example 87: label 1, feature_names [6.3 2.3 4.4 1.3]\n",
      "Example 88: label 1, feature_names [5.6 3.  4.1 1.3]\n",
      "Example 89: label 1, feature_names [5.5 2.5 4.  1.3]\n",
      "Example 90: label 1, feature_names [5.5 2.6 4.4 1.2]\n",
      "Example 91: label 1, feature_names [6.1 3.  4.6 1.4]\n",
      "Example 92: label 1, feature_names [5.8 2.6 4.  1.2]\n",
      "Example 93: label 1, feature_names [5.  2.3 3.3 1. ]\n",
      "Example 94: label 1, feature_names [5.6 2.7 4.2 1.3]\n",
      "Example 95: label 1, feature_names [5.7 3.  4.2 1.2]\n",
      "Example 96: label 1, feature_names [5.7 2.9 4.2 1.3]\n",
      "Example 97: label 1, feature_names [6.2 2.9 4.3 1.3]\n",
      "Example 98: label 1, feature_names [5.1 2.5 3.  1.1]\n",
      "Example 99: label 1, feature_names [5.7 2.8 4.1 1.3]\n",
      "Example 100: label 2, feature_names [6.3 3.3 6.  2.5]\n",
      "Example 101: label 2, feature_names [5.8 2.7 5.1 1.9]\n",
      "Example 102: label 2, feature_names [7.1 3.  5.9 2.1]\n",
      "Example 103: label 2, feature_names [6.3 2.9 5.6 1.8]\n",
      "Example 104: label 2, feature_names [6.5 3.  5.8 2.2]\n",
      "Example 105: label 2, feature_names [7.6 3.  6.6 2.1]\n",
      "Example 106: label 2, feature_names [4.9 2.5 4.5 1.7]\n",
      "Example 107: label 2, feature_names [7.3 2.9 6.3 1.8]\n",
      "Example 108: label 2, feature_names [6.7 2.5 5.8 1.8]\n",
      "Example 109: label 2, feature_names [7.2 3.6 6.1 2.5]\n",
      "Example 110: label 2, feature_names [6.5 3.2 5.1 2. ]\n",
      "Example 111: label 2, feature_names [6.4 2.7 5.3 1.9]\n",
      "Example 112: label 2, feature_names [6.8 3.  5.5 2.1]\n",
      "Example 113: label 2, feature_names [5.7 2.5 5.  2. ]\n",
      "Example 114: label 2, feature_names [5.8 2.8 5.1 2.4]\n",
      "Example 115: label 2, feature_names [6.4 3.2 5.3 2.3]\n",
      "Example 116: label 2, feature_names [6.5 3.  5.5 1.8]\n",
      "Example 117: label 2, feature_names [7.7 3.8 6.7 2.2]\n",
      "Example 118: label 2, feature_names [7.7 2.6 6.9 2.3]\n",
      "Example 119: label 2, feature_names [6.  2.2 5.  1.5]\n",
      "Example 120: label 2, feature_names [6.9 3.2 5.7 2.3]\n",
      "Example 121: label 2, feature_names [5.6 2.8 4.9 2. ]\n",
      "Example 122: label 2, feature_names [7.7 2.8 6.7 2. ]\n",
      "Example 123: label 2, feature_names [6.3 2.7 4.9 1.8]\n",
      "Example 124: label 2, feature_names [6.7 3.3 5.7 2.1]\n",
      "Example 125: label 2, feature_names [7.2 3.2 6.  1.8]\n",
      "Example 126: label 2, feature_names [6.2 2.8 4.8 1.8]\n",
      "Example 127: label 2, feature_names [6.1 3.  4.9 1.8]\n",
      "Example 128: label 2, feature_names [6.4 2.8 5.6 2.1]\n",
      "Example 129: label 2, feature_names [7.2 3.  5.8 1.6]\n",
      "Example 130: label 2, feature_names [7.4 2.8 6.1 1.9]\n",
      "Example 131: label 2, feature_names [7.9 3.8 6.4 2. ]\n",
      "Example 132: label 2, feature_names [6.4 2.8 5.6 2.2]\n",
      "Example 133: label 2, feature_names [6.3 2.8 5.1 1.5]\n",
      "Example 134: label 2, feature_names [6.1 2.6 5.6 1.4]\n",
      "Example 135: label 2, feature_names [7.7 3.  6.1 2.3]\n",
      "Example 136: label 2, feature_names [6.3 3.4 5.6 2.4]\n",
      "Example 137: label 2, feature_names [6.4 3.1 5.5 1.8]\n",
      "Example 138: label 2, feature_names [6.  3.  4.8 1.8]\n",
      "Example 139: label 2, feature_names [6.9 3.1 5.4 2.1]\n",
      "Example 140: label 2, feature_names [6.7 3.1 5.6 2.4]\n",
      "Example 141: label 2, feature_names [6.9 3.1 5.1 2.3]\n",
      "Example 142: label 2, feature_names [5.8 2.7 5.1 1.9]\n",
      "Example 143: label 2, feature_names [6.8 3.2 5.9 2.3]\n",
      "Example 144: label 2, feature_names [6.7 3.3 5.7 2.5]\n",
      "Example 145: label 2, feature_names [6.7 3.  5.2 2.3]\n",
      "Example 146: label 2, feature_names [6.3 2.5 5.  1.9]\n",
      "Example 147: label 2, feature_names [6.5 3.  5.2 2. ]\n",
      "Example 148: label 2, feature_names [6.2 3.4 5.4 2.3]\n",
      "Example 149: label 2, feature_names [5.9 3.  5.1 1.8]\n"
     ]
    }
   ],
   "source": [
    "for i in range (len(iris.target)):\n",
    "    print(\"Example %d: label %s, feature_names %s\" % (i, iris.target[i], iris.data[i]))"
   ]
  },
  {
   "cell_type": "code",
   "execution_count": 10,
   "metadata": {},
   "outputs": [
    {
     "name": "stdout",
     "output_type": "stream",
     "text": [
      "0 0 [5.1 3.5 1.4 0.2]\n",
      "1 0 [4.9 3.  1.4 0.2]\n",
      "2 0 [4.7 3.2 1.3 0.2]\n",
      "3 0 [4.6 3.1 1.5 0.2]\n",
      "4 0 [5.  3.6 1.4 0.2]\n",
      "5 0 [5.4 3.9 1.7 0.4]\n",
      "6 0 [4.6 3.4 1.4 0.3]\n",
      "7 0 [5.  3.4 1.5 0.2]\n",
      "8 0 [4.4 2.9 1.4 0.2]\n",
      "9 0 [4.9 3.1 1.5 0.1]\n",
      "10 0 [5.4 3.7 1.5 0.2]\n",
      "11 0 [4.8 3.4 1.6 0.2]\n",
      "12 0 [4.8 3.  1.4 0.1]\n",
      "13 0 [4.3 3.  1.1 0.1]\n",
      "14 0 [5.8 4.  1.2 0.2]\n",
      "15 0 [5.7 4.4 1.5 0.4]\n",
      "16 0 [5.4 3.9 1.3 0.4]\n",
      "17 0 [5.1 3.5 1.4 0.3]\n",
      "18 0 [5.7 3.8 1.7 0.3]\n",
      "19 0 [5.1 3.8 1.5 0.3]\n",
      "20 0 [5.4 3.4 1.7 0.2]\n",
      "21 0 [5.1 3.7 1.5 0.4]\n",
      "22 0 [4.6 3.6 1.  0.2]\n",
      "23 0 [5.1 3.3 1.7 0.5]\n",
      "24 0 [4.8 3.4 1.9 0.2]\n",
      "25 0 [5.  3.  1.6 0.2]\n",
      "26 0 [5.  3.4 1.6 0.4]\n",
      "27 0 [5.2 3.5 1.5 0.2]\n",
      "28 0 [5.2 3.4 1.4 0.2]\n",
      "29 0 [4.7 3.2 1.6 0.2]\n",
      "30 0 [4.8 3.1 1.6 0.2]\n",
      "31 0 [5.4 3.4 1.5 0.4]\n",
      "32 0 [5.2 4.1 1.5 0.1]\n",
      "33 0 [5.5 4.2 1.4 0.2]\n",
      "34 0 [4.9 3.1 1.5 0.2]\n",
      "35 0 [5.  3.2 1.2 0.2]\n",
      "36 0 [5.5 3.5 1.3 0.2]\n",
      "37 0 [4.9 3.6 1.4 0.1]\n",
      "38 0 [4.4 3.  1.3 0.2]\n",
      "39 0 [5.1 3.4 1.5 0.2]\n",
      "40 0 [5.  3.5 1.3 0.3]\n",
      "41 0 [4.5 2.3 1.3 0.3]\n",
      "42 0 [4.4 3.2 1.3 0.2]\n",
      "43 0 [5.  3.5 1.6 0.6]\n",
      "44 0 [5.1 3.8 1.9 0.4]\n",
      "45 0 [4.8 3.  1.4 0.3]\n",
      "46 0 [5.1 3.8 1.6 0.2]\n",
      "47 0 [4.6 3.2 1.4 0.2]\n",
      "48 0 [5.3 3.7 1.5 0.2]\n",
      "49 0 [5.  3.3 1.4 0.2]\n",
      "50 1 [7.  3.2 4.7 1.4]\n",
      "51 1 [6.4 3.2 4.5 1.5]\n",
      "52 1 [6.9 3.1 4.9 1.5]\n",
      "53 1 [5.5 2.3 4.  1.3]\n",
      "54 1 [6.5 2.8 4.6 1.5]\n",
      "55 1 [5.7 2.8 4.5 1.3]\n",
      "56 1 [6.3 3.3 4.7 1.6]\n",
      "57 1 [4.9 2.4 3.3 1. ]\n",
      "58 1 [6.6 2.9 4.6 1.3]\n",
      "59 1 [5.2 2.7 3.9 1.4]\n",
      "60 1 [5.  2.  3.5 1. ]\n",
      "61 1 [5.9 3.  4.2 1.5]\n",
      "62 1 [6.  2.2 4.  1. ]\n",
      "63 1 [6.1 2.9 4.7 1.4]\n",
      "64 1 [5.6 2.9 3.6 1.3]\n",
      "65 1 [6.7 3.1 4.4 1.4]\n",
      "66 1 [5.6 3.  4.5 1.5]\n",
      "67 1 [5.8 2.7 4.1 1. ]\n",
      "68 1 [6.2 2.2 4.5 1.5]\n",
      "69 1 [5.6 2.5 3.9 1.1]\n",
      "70 1 [5.9 3.2 4.8 1.8]\n",
      "71 1 [6.1 2.8 4.  1.3]\n",
      "72 1 [6.3 2.5 4.9 1.5]\n",
      "73 1 [6.1 2.8 4.7 1.2]\n",
      "74 1 [6.4 2.9 4.3 1.3]\n",
      "75 1 [6.6 3.  4.4 1.4]\n",
      "76 1 [6.8 2.8 4.8 1.4]\n",
      "77 1 [6.7 3.  5.  1.7]\n",
      "78 1 [6.  2.9 4.5 1.5]\n",
      "79 1 [5.7 2.6 3.5 1. ]\n",
      "80 1 [5.5 2.4 3.8 1.1]\n",
      "81 1 [5.5 2.4 3.7 1. ]\n",
      "82 1 [5.8 2.7 3.9 1.2]\n",
      "83 1 [6.  2.7 5.1 1.6]\n",
      "84 1 [5.4 3.  4.5 1.5]\n",
      "85 1 [6.  3.4 4.5 1.6]\n",
      "86 1 [6.7 3.1 4.7 1.5]\n",
      "87 1 [6.3 2.3 4.4 1.3]\n",
      "88 1 [5.6 3.  4.1 1.3]\n",
      "89 1 [5.5 2.5 4.  1.3]\n",
      "90 1 [5.5 2.6 4.4 1.2]\n",
      "91 1 [6.1 3.  4.6 1.4]\n",
      "92 1 [5.8 2.6 4.  1.2]\n",
      "93 1 [5.  2.3 3.3 1. ]\n",
      "94 1 [5.6 2.7 4.2 1.3]\n",
      "95 1 [5.7 3.  4.2 1.2]\n",
      "96 1 [5.7 2.9 4.2 1.3]\n",
      "97 1 [6.2 2.9 4.3 1.3]\n",
      "98 1 [5.1 2.5 3.  1.1]\n",
      "99 1 [5.7 2.8 4.1 1.3]\n",
      "100 2 [6.3 3.3 6.  2.5]\n",
      "101 2 [5.8 2.7 5.1 1.9]\n",
      "102 2 [7.1 3.  5.9 2.1]\n",
      "103 2 [6.3 2.9 5.6 1.8]\n",
      "104 2 [6.5 3.  5.8 2.2]\n",
      "105 2 [7.6 3.  6.6 2.1]\n",
      "106 2 [4.9 2.5 4.5 1.7]\n",
      "107 2 [7.3 2.9 6.3 1.8]\n",
      "108 2 [6.7 2.5 5.8 1.8]\n",
      "109 2 [7.2 3.6 6.1 2.5]\n",
      "110 2 [6.5 3.2 5.1 2. ]\n",
      "111 2 [6.4 2.7 5.3 1.9]\n",
      "112 2 [6.8 3.  5.5 2.1]\n",
      "113 2 [5.7 2.5 5.  2. ]\n",
      "114 2 [5.8 2.8 5.1 2.4]\n",
      "115 2 [6.4 3.2 5.3 2.3]\n",
      "116 2 [6.5 3.  5.5 1.8]\n",
      "117 2 [7.7 3.8 6.7 2.2]\n",
      "118 2 [7.7 2.6 6.9 2.3]\n",
      "119 2 [6.  2.2 5.  1.5]\n",
      "120 2 [6.9 3.2 5.7 2.3]\n",
      "121 2 [5.6 2.8 4.9 2. ]\n",
      "122 2 [7.7 2.8 6.7 2. ]\n",
      "123 2 [6.3 2.7 4.9 1.8]\n",
      "124 2 [6.7 3.3 5.7 2.1]\n",
      "125 2 [7.2 3.2 6.  1.8]\n",
      "126 2 [6.2 2.8 4.8 1.8]\n",
      "127 2 [6.1 3.  4.9 1.8]\n",
      "128 2 [6.4 2.8 5.6 2.1]\n",
      "129 2 [7.2 3.  5.8 1.6]\n",
      "130 2 [7.4 2.8 6.1 1.9]\n",
      "131 2 [7.9 3.8 6.4 2. ]\n",
      "132 2 [6.4 2.8 5.6 2.2]\n",
      "133 2 [6.3 2.8 5.1 1.5]\n",
      "134 2 [6.1 2.6 5.6 1.4]\n",
      "135 2 [7.7 3.  6.1 2.3]\n",
      "136 2 [6.3 3.4 5.6 2.4]\n",
      "137 2 [6.4 3.1 5.5 1.8]\n",
      "138 2 [6.  3.  4.8 1.8]\n",
      "139 2 [6.9 3.1 5.4 2.1]\n",
      "140 2 [6.7 3.1 5.6 2.4]\n",
      "141 2 [6.9 3.1 5.1 2.3]\n",
      "142 2 [5.8 2.7 5.1 1.9]\n",
      "143 2 [6.8 3.2 5.9 2.3]\n",
      "144 2 [6.7 3.3 5.7 2.5]\n",
      "145 2 [6.7 3.  5.2 2.3]\n",
      "146 2 [6.3 2.5 5.  1.9]\n",
      "147 2 [6.5 3.  5.2 2. ]\n",
      "148 2 [6.2 3.4 5.4 2.3]\n",
      "149 2 [5.9 3.  5.1 1.8]\n"
     ]
    }
   ],
   "source": [
    "for i in range (len(iris.target)):\n",
    "    print(i, iris.target[i], iris.data[i])"
   ]
  },
  {
   "cell_type": "markdown",
   "metadata": {},
   "source": [
    "### Splitting up our dataset"
   ]
  },
  {
   "cell_type": "markdown",
   "metadata": {},
   "source": [
    "Grab one of each flower type from our dataset."
   ]
  },
  {
   "cell_type": "code",
   "execution_count": 16,
   "metadata": {},
   "outputs": [],
   "source": [
    "test_idx = [0, 50, 100]\n",
    "\n",
    "\n",
    "# our training data\n",
    "# delete the three chosen cases from our original dataset, both target and data\n",
    "train_target = np.delete(iris.target, test_idx)\n",
    "train_data = np.delete(iris.data, test_idx, axis=0)\n",
    "\n",
    "# Our testing data with just the 3 examples we removed\n",
    "# create two new sets of variables; one for training and one for testing\n",
    "test_target = iris.target[test_idx]\n",
    "test_data = iris.data[test_idx]\n",
    "\n"
   ]
  },
  {
   "cell_type": "markdown",
   "metadata": {},
   "source": [
    "Just like before, we can create a decision tree classifier and train it."
   ]
  },
  {
   "cell_type": "code",
   "execution_count": 20,
   "metadata": {},
   "outputs": [
    {
     "data": {
      "text/plain": [
       "DecisionTreeClassifier(ccp_alpha=0.0, class_weight=None, criterion='gini',\n",
       "                       max_depth=None, max_features=None, max_leaf_nodes=None,\n",
       "                       min_impurity_decrease=0.0, min_impurity_split=None,\n",
       "                       min_samples_leaf=1, min_samples_split=2,\n",
       "                       min_weight_fraction_leaf=0.0, presort='deprecated',\n",
       "                       random_state=None, splitter='best')"
      ]
     },
     "execution_count": 20,
     "metadata": {},
     "output_type": "execute_result"
    }
   ],
   "source": [
    "from sklearn import tree\n",
    "\n",
    "# create object instance \n",
    "clf = tree.DecisionTreeClassifier()\n",
    "\n",
    "# train it on our training data«\n",
    "clf.fit(train_data, train_target)"
   ]
  },
  {
   "cell_type": "code",
   "execution_count": 22,
   "metadata": {},
   "outputs": [
    {
     "name": "stdout",
     "output_type": "stream",
     "text": [
      "[0 1 2]\n"
     ]
    }
   ],
   "source": [
    "print(test_target)"
   ]
  },
  {
   "cell_type": "code",
   "execution_count": 24,
   "metadata": {},
   "outputs": [
    {
     "name": "stdout",
     "output_type": "stream",
     "text": [
      "[0 1 2]\n"
     ]
    }
   ],
   "source": [
    "print(clf.predict(test_data))"
   ]
  },
  {
   "cell_type": "markdown",
   "metadata": {},
   "source": [
    "Our predicted labels match our test_target data! It got them all right!"
   ]
  },
  {
   "cell_type": "code",
   "execution_count": null,
   "metadata": {},
   "outputs": [],
   "source": []
  },
  {
   "cell_type": "code",
   "execution_count": null,
   "metadata": {},
   "outputs": [],
   "source": []
  }
 ],
 "metadata": {
  "kernelspec": {
   "display_name": "Python 3",
   "language": "python",
   "name": "python3"
  },
  "language_info": {
   "codemirror_mode": {
    "name": "ipython",
    "version": 3
   },
   "file_extension": ".py",
   "mimetype": "text/x-python",
   "name": "python",
   "nbconvert_exporter": "python",
   "pygments_lexer": "ipython3",
   "version": "3.7.6"
  }
 },
 "nbformat": 4,
 "nbformat_minor": 4
}
