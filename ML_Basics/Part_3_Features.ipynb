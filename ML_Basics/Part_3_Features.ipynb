{
 "cells": [
  {
   "cell_type": "markdown",
   "metadata": {},
   "source": [
    "### Usefulness of Features"
   ]
  },
  {
   "cell_type": "markdown",
   "metadata": {},
   "source": [
    "A programatic example. We will create a population of 1000 dogs: 500 greyhounds and 500 labs."
   ]
  },
  {
   "cell_type": "code",
   "execution_count": 1,
   "metadata": {},
   "outputs": [],
   "source": [
    "import numpy as np\n",
    "import matplotlib.pyplot as plt"
   ]
  },
  {
   "cell_type": "code",
   "execution_count": 2,
   "metadata": {},
   "outputs": [],
   "source": [
    "greyhounds = 500\n",
    "labs = 500"
   ]
  },
  {
   "cell_type": "markdown",
   "metadata": {},
   "source": [
    "Let's give them an average height."
   ]
  },
  {
   "cell_type": "code",
   "execution_count": 7,
   "metadata": {},
   "outputs": [],
   "source": [
    "# # normally distributed different heights per dog\n",
    "# let's give them plus or minus 4 inches\n",
    "\n",
    "grey_height = 28 + 4 * np.random.randn(greyhounds)\n",
    "lab_height = 24 + 4 * np.random.randn(labs)"
   ]
  },
  {
   "cell_type": "markdown",
   "metadata": {},
   "source": [
    "This will give us two arrays of numbers. We can visualize them in a histogram."
   ]
  },
  {
   "cell_type": "code",
   "execution_count": 11,
   "metadata": {},
   "outputs": [
    {
     "data": {
      "text/plain": [
       "([array([  4.,   5.,  20.,  52., 115., 115.,  85.,  77.,  23.,   4.]),\n",
       "  array([ 15.,  40., 103., 170., 236., 189., 132.,  87.,  24.,   4.])],\n",
       " array([12.97373113, 15.63936747, 18.30500382, 20.97064016, 23.63627651,\n",
       "        26.30191285, 28.9675492 , 31.63318554, 34.29882189, 36.96445823,\n",
       "        39.63009458]),\n",
       " <a list of 2 Lists of Patches objects>)"
      ]
     },
     "execution_count": 11,
     "metadata": {},
     "output_type": "execute_result"
    },
    {
     "data": {
      "image/png": "[encoded data removed]",
      "text/plain": [
       "<Figure size 432x288 with 1 Axes>"
      ]
     },
     "metadata": {
      "needs_background": "light"
     },
     "output_type": "display_data"
    }
   ],
   "source": [
    "plt.hist([grey_height, lab_height], stacked=True, color=['r', 'b'])"
   ]
  },
  {
   "cell_type": "markdown",
   "metadata": {},
   "source": [
    "How to approach this? (above)\n",
    "- Well if we look to the 15 inches of the spectrum, we can be pretty certain that it's a greyhound. YOu can tell by the ratio blue/red.\n",
    "- a dog in the middle, around 23 to 30 inches, is more difficult to predict because the ratios are about equal.\n",
    "\n",
    "Height is a useful feature, but it's not perfect! That's why we need multiple features. However, ***avoid useless features***"
   ]
  },
  {
   "cell_type": "markdown",
   "metadata": {},
   "source": [
    "Also, you'd like to have independent features. They shouldn't correlate too much. Most classfiers will overestimate the importance of a feature."
   ]
  },
  {
   "cell_type": "markdown",
   "metadata": {},
   "source": [
    "** Ideal Features are...**\n",
    "- informative\n",
    "- independent\n",
    "- simple"
   ]
  },
  {
   "cell_type": "code",
   "execution_count": null,
   "metadata": {},
   "outputs": [],
   "source": []
  }
 ],
 "metadata": {
  "kernelspec": {
   "display_name": "Python 3",
   "language": "python",
   "name": "python3"
  },
  "language_info": {
   "codemirror_mode": {
    "name": "ipython",
    "version": 3
   },
   "file_extension": ".py",
   "mimetype": "text/x-python",
   "name": "python",
   "nbconvert_exporter": "python",
   "pygments_lexer": "ipython3",
   "version": "3.7.6"
  }
 },
 "nbformat": 4,
 "nbformat_minor": 4
}
